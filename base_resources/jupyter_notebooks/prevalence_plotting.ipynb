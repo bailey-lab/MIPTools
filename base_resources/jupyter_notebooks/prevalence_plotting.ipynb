{
 "cells": [
  {
   "cell_type": "code",
   "execution_count": null,
   "id": "aa1996a7-7832-484b-8fe3-8e39e9cf83ba",
   "metadata": {},
   "outputs": [],
   "source": [
    "# RUN\n",
    "import sys\n",
    "sys.path.append(\"/opt/src\")\n",
    "import mip_functions as mip\n",
    "import calculate_prevalences as cap\n",
    "import probe_summary_generator\n",
    "import pickle\n",
    "import json\n",
    "import copy\n",
    "import math\n",
    "import os\n",
    "import numpy as np\n",
    "import subprocess\n",
    "%matplotlib inline\n",
    "import matplotlib.pyplot as plt\n",
    "plt.style.use('ggplot')\n",
    "from matplotlib.lines import Line2D\n",
    "plt.rcParams['svg.fonttype'] = 'none'\n",
    "import pandas as pd\n",
    "import seaborn as sns\n",
    "import plotly.express as px\n",
    "import warnings\n",
    "warnings.filterwarnings('ignore')\n",
    "import allel\n",
    "wdir = \"/opt/user/stats_and_variant_calling/\"\n",
    "import plotly.express as px\n",
    "from ipywidgets import interact, interactive, fixed, interact_manual\n",
    "import ipywidgets as widgets\n",
    "from urllib.request import urlopen"
   ]
  },
  {
   "cell_type": "markdown",
   "id": "6b220bad",
   "metadata": {},
   "source": [
    "# Calling genotypes, prevalences and filtering data\n",
    "The original vcf file created by freebayes contain the genotypes determined by the program itself. In addition, genotype values for aggregated and non-aggregated nucleotides and aminoacids are also available as *_genotypes_table.csv files as described above.  \n",
    "\n",
    "However, the default parameters generating the vcf file are not very strict. In this part of the analysis we will apply various filters to the count tables and generate genotype calls based on those filters."
   ]
  },
  {
   "cell_type": "markdown",
   "id": "aeb239b1",
   "metadata": {},
   "source": [
    "### Chose which tables to analyse\n",
    "Select the type of data to analyse. Make sure the count file is matching the coverage file. e.g. alternate_XX_table and coverage_XX_table, XX must be the same value (AA, AN or nothing)."
   ]
  },
  {
   "cell_type": "markdown",
   "id": "83ba304e",
   "metadata": {},
   "source": [
    "#### Example cell\n",
    "```python\n",
    "mutation_count_file = \"alternate_AA_table.csv\"\n",
    "mutation_coverage_file = \"coverage_AA_table.csv\"\n",
    "```"
   ]
  },
  {
   "cell_type": "code",
   "execution_count": null,
   "id": "a903a821",
   "metadata": {},
   "outputs": [],
   "source": [
    "# USER INPUT\n",
    "\n",
    "mutation_count_file = \"alternate_AA_table.csv\"\n",
    "mutation_coverage_file = \"coverage_AA_table.csv\""
   ]
  },
  {
   "cell_type": "code",
   "execution_count": null,
   "id": "8f26ed6d",
   "metadata": {},
   "outputs": [],
   "source": [
    "# RUN\n",
    "import pandas as pd\n",
    "mutation_counts = pd.read_csv(mutation_count_file,\n",
    "                              header=list(range(6)),\n",
    "                              index_col=0)\n",
    "mutation_counts.head()\n",
    "\n",
    "mutation_coverage = pd.read_csv(mutation_coverage_file,\n",
    "                                index_col=0,\n",
    "                                header=list(range(6)))\n",
    "mutation_coverage.head()"
   ]
  },
  {
   "cell_type": "markdown",
   "id": "2f3d6741",
   "metadata": {},
   "source": [
    "### Set your filters   \n",
    "1.  **min_coverage**: how many UMIs are needed to for a genomic position for a sample to reliably call genotypes. If we set min_coverage = 10, any locus within a sample that is covered below this threshold will have an NA genotype.\n",
    "2.  **min_count**: if a genomic position have enough coverage, how many UMIs supporting an ALT allele call is needed for a reliable call. If we set min_count = 2, any mutation with an  call that has less than 2 UMIs supporting the ALT call will revert to REF.\n",
    "3.  **min_freq**: a minimum within sample allele frequency threshold to consider a variant valid. If set to 0.01, for example, a variant locus in a sample that is at 0.005 frequency for the ALT allele within the sample, the locus would be called REF, if the within sample AF is between 0.01 and 0.99, it would be considered HET, and if > 0.99, it would be homozygous ALT."
   ]
  },
  {
   "cell_type": "markdown",
   "id": "3a0f680c",
   "metadata": {},
   "source": [
    "#### Example cell\n",
    "```python\n",
    "# filter mutation counts for minimum count parameter\n",
    "# by setting counts to zero if it is below threshold\n",
    "min_count = 2\n",
    "# filter loci without enough coverage by setting\n",
    "# coverage to zero if it is below threshold\n",
    "min_coverage = 10\n",
    "# call genotypes using the minimum within sample\n",
    "# allele frequency\n",
    "min_freq = 0\n",
    "```"
   ]
  },
  {
   "cell_type": "code",
   "execution_count": null,
   "id": "b05fb266",
   "metadata": {},
   "outputs": [],
   "source": [
    "# USER INPUT \n",
    "\n",
    "# filter mutation counts for minimum count parameter\n",
    "# by setting counts to zero if it is below threshold\n",
    "min_count = 2\n",
    "# filter loci without enough coverage by setting\n",
    "# coverage to zero if it is below threshold\n",
    "min_coverage = 10\n",
    "# call genotypes using the minimum within sample\n",
    "# allele frequency\n",
    "min_freq = 0"
   ]
  },
  {
   "cell_type": "code",
   "execution_count": null,
   "id": "1c87661e",
   "metadata": {},
   "outputs": [],
   "source": [
    "# RUN\n",
    "\n",
    "# import the PCA module which has genotype calling and\n",
    "# filtering functions \n",
    "import PCA\n",
    "\n",
    "gt_calls = PCA.call_genotypes(mutation_counts, mutation_coverage,\n",
    "                              min_count, min_coverage, min_freq)\n",
    "gt_calls.keys()"
   ]
  },
  {
   "cell_type": "markdown",
   "id": "94fbe8fd",
   "metadata": {},
   "source": [
    "### What are the dataframes generated by call_genotypes function and how  are they generated?"
   ]
  },
  {
   "cell_type": "markdown",
   "id": "35de8bb0",
   "metadata": {},
   "source": [
    "**filtered_mutation_coverage**: take the mutation_coverage table, if a cell's value is below *min_coverage*, reset that cell's value to zero, otherwise leave as is."
   ]
  },
  {
   "cell_type": "code",
   "execution_count": null,
   "id": "b2649811",
   "metadata": {},
   "outputs": [],
   "source": [
    "# RUN\n",
    "filtered_mutation_counts = gt_calls[\"filtered_mutation_counts\"]\n",
    "filtered_mutation_counts.to_csv(os.path.join(\n",
    "        wdir, \"filtered_alternate_AA_table.csv\"))\n",
    "filtered_mutation_counts.head()"
   ]
  },
  {
   "cell_type": "markdown",
   "id": "ccaafa91",
   "metadata": {},
   "source": [
    "**wsaf**: divide *filtered_mutation_counts* table by *filtered_mutation_coverage* table, yielding within sample allele frequencies.  "
   ]
  },
  {
   "cell_type": "code",
   "execution_count": null,
   "id": "fcc97d5b",
   "metadata": {},
   "outputs": [],
   "source": [
    "# RUN\n",
    "freq = gt_calls[\"wsaf\"]\n",
    "freq.to_csv(os.path.join(\n",
    "        wdir, \"within_sample_allele_frequencies.csv\"))\n",
    "freq.head()"
   ]
  },
  {
   "cell_type": "markdown",
   "id": "1e976119",
   "metadata": {},
   "source": [
    "**genotypes**: take the *wsaf* table, if a cell's value is less than *min_freq* set the genotype value to 0 (homozygous wild type); if the cell's value is more than (*1 - min_freq*) set the genotype value to 2 (homozygous mutant), if the cell's value is between *min_freq* and (*1 - min_freq*) set the genotype value to 1 (heterozygous/mixed).  "
   ]
  },
  {
   "cell_type": "code",
   "execution_count": null,
   "id": "3c4efc52",
   "metadata": {},
   "outputs": [],
   "source": [
    "# RUN\n",
    "genotypes = gt_calls[\"genotypes\"]\n",
    "genotypes.to_csv(os.path.join(\n",
    "        wdir, \"filtered_genotypes_table.csv\"))\n",
    "genotypes.head()"
   ]
  },
  {
   "cell_type": "markdown",
   "id": "f5a17d7d",
   "metadata": {},
   "source": [
    "**prevalences**: take the *genotypes* table, if a cell's value is 2, reset its value to 1; otherwise leave as is."
   ]
  },
  {
   "cell_type": "code",
   "execution_count": null,
   "id": "0918fdf7",
   "metadata": {},
   "outputs": [],
   "source": [
    "# RUN\n",
    "prevalences = gt_calls[\"prevalences\"]\n",
    "prevalences.to_csv(os.path.join(wdir, \"prevalences_input_table.csv\"))\n",
    "prevalences.head()"
   ]
  },
  {
   "cell_type": "markdown",
   "id": "153c029e",
   "metadata": {},
   "source": [
    "# Calculate Prevalence in Each Region"
   ]
  },
  {
   "cell_type": "code",
   "execution_count": null,
   "id": "45f4b571-2402-4766-a1cf-5baecd7879e2",
   "metadata": {},
   "outputs": [],
   "source": [
    "#### User Input #######\n",
    "\n",
    "mutations_of_interest = [\n",
    "\"crt-Cys72Ser\",\n",
    "\"crt-Val73Leu\",\n",
    "\"crt-Met74Ile\",\n",
    "\"crt-Asn75Glu\",\n",
    "\"crt-Lys76Thr\",\n",
    "\"crt-Asn326Ser\",\n",
    "\"crt-Ile356Thr\",\n",
    "\"dhfr-ts-Asn51Ile\",\n",
    "\"dhfr-ts-Cys59Arg\",\n",
    "\"dhfr-ts-Ser108Asn\",\n",
    "\"dhfr-ts-Ser108Thr\",\n",
    "\"dhfr-ts-Ile164Leu\",\n",
    "\"dhps-Ala437Gly\",\n",
    "\"dhps-Ala581Gly\",\n",
    "\"dhps-Ala613Ser\",\n",
    "\"dhps-Ala613Thr\",\n",
    "\"dhps-Ile431Val\",\n",
    "\"dhps-Lys540Glu\",\n",
    "\"dhps-Ser436Ala\",\n",
    "\"dhps-Ser436Phe\",\n",
    "\"k13-Ala675Val\",\n",
    "\"k13-Arg539Thr\",\n",
    "\"k13-Arg561His\",\n",
    "\"k13-Arg622Ile\",\n",
    "\"k13-Cys469Phe\",\n",
    "\"k13-Cys469Tyr\",\n",
    "\"k13-Cys580Tyr\",\n",
    "\"k13-Pro441Leu\",\n",
    "\"k13-Tyr493His\",\n",
    "\"k13-Val568Gly\",\n",
    "\"mdr1-Asn1042Asp\",\n",
    "\"mdr1-Asn86Phe\",\n",
    "\"mdr1-Asn86Tyr\",\n",
    "\"mdr1-Asp1246Tyr\",\n",
    "\"mdr1-Ser1034Cys\",\n",
    "\"mdr1-Tyr184Phe\"]\n"
   ]
  },
  {
   "cell_type": "code",
   "execution_count": null,
   "id": "d754547d-b88f-4315-bad8-c9078a4e1abf",
   "metadata": {},
   "outputs": [],
   "source": [
    "#### RUN ####\n",
    "\n",
    "prevalences_input_table = 'prevalences_input_table.csv'\n",
    "metadata_files = os.listdir('/opt/user/prevalence_metadata')\n",
    "if '.ipynb_checkpoints' in metadata_files:\n",
    "    metadata_files.remove('.ipynb_checkpoints')\n",
    "metadata_files.sort()\n",
    "\n",
    "for metadata_file in metadata_files:\n",
    "    output_summary_table = metadata_file.split('_metadata')[0]+'_prevalence_summary.tsv'\n",
    "    cap.calculate_prevalences('/opt/user/prevalence_metadata/'+metadata_file,\n",
    "                              prevalences_input_table,\n",
    "                              mutations_of_interest,\n",
    "                              output_summary_table)\n",
    "\n",
    "variant_set = set(open(prevalences_input_table).readlines()[2].strip().split(',')[1:])\n",
    "mutations_of_interest_set = set(mutations_of_interest)\n",
    "variants_of_interest = list(variant_set.intersection(mutations_of_interest_set))\n",
    "variants_of_interest.sort()"
   ]
  },
  {
   "cell_type": "markdown",
   "id": "83a1a388",
   "metadata": {},
   "source": [
    "# Plot Choropleth"
   ]
  },
  {
   "cell_type": "code",
   "execution_count": null,
   "id": "a4d5d70d-8df8-49e9-b5e6-022ae7ca386e",
   "metadata": {},
   "outputs": [],
   "source": [
    "### RUN ###\n",
    "def load_json(region_of_interest):\n",
    "    json_file = open('/opt/resources/geojson_files/'+region_of_interest+'.geojson','r')\n",
    "    region_df = json.load(json_file)\n",
    "    return region_df\n",
    "\n",
    "def read_prevalence_table(sample_set, variants_of_interest):\n",
    "    summary_table = sample_set+'_prevalence_summary.tsv'\n",
    "    prevalence_summary_df = pd.read_csv(summary_table, sep='\\t')\n",
    "    for variant in variants_of_interest:\n",
    "        prevalence_summary_df[variant]=[float(x.split()[0]) for x in prevalence_summary_df[variant]]\n",
    "    return prevalence_summary_df\n",
    "\n",
    "def display_choropleth(region_of_interest, variant, sample_set, variants_of_interest):\n",
    "    region_dict = {'uganda':{'zoom':5.8, 'coordinates':{\"lat\": 1.3733, \"lon\": 32.2903}},\n",
    "                   'tanzania':{'zoom':4, 'coordinates':{\"lat\": -6.3690, \"lon\": 34.8888}}\n",
    "                  }\n",
    "    json_file = load_json(region_of_interest)\n",
    "    prevalence_summary_df = read_prevalence_table(sample_set, variants_of_interest)\n",
    "    fig = px.choropleth_mapbox(prevalence_summary_df, \n",
    "                                geojson=json_file, \n",
    "                                locations='Sites', \n",
    "                                color=variant,\n",
    "                                color_continuous_scale=\"reds\",\n",
    "                                mapbox_style=\"open-street-map\",\n",
    "                                featureidkey=\"properties.name\",\n",
    "                                zoom=region_dict[region_of_interest]['zoom'], \n",
    "                                center = region_dict[region_of_interest]['coordinates'],\n",
    "                                labels={'Sites':'Site'},\n",
    "                                range_color=(0,1),\n",
    "    )\n",
    "    fig.update_layout(margin={\"r\":0,\"t\":40,\"l\":0,\"b\":0})\n",
    "    fig.update_layout(height=500, title=sample_set)\n",
    "    return fig"
   ]
  },
  {
   "cell_type": "code",
   "execution_count": null,
   "id": "080505ee",
   "metadata": {},
   "outputs": [],
   "source": [
    "########### RUN #################\n",
    "region = widgets.Dropdown(\n",
    "    options=['uganda', 'tanzania'],\n",
    "    value='uganda',\n",
    "    description='region:',\n",
    "    disabled=False,\n",
    ")\n",
    "display(region)\n",
    "\n",
    "variant = widgets.Dropdown(\n",
    "    options=variants_of_interest,\n",
    "    description='variant:',\n",
    "    disabled=False,\n",
    ")\n",
    "display(variant)"
   ]
  },
  {
   "cell_type": "code",
   "execution_count": null,
   "id": "7ca59c26-b8b0-469d-a500-89f615776f78",
   "metadata": {},
   "outputs": [],
   "source": [
    "##### re-run after making a new selection with the dropdown menus above ####\n",
    "sample_sets = [x.split('_metadata')[0] for x in metadata_files]\n",
    "for sample_set in sample_sets:\n",
    "    fig = display_choropleth(region.value, variant.value, sample_set, variants_of_interest)\n",
    "    fig.show()"
   ]
  },
  {
   "cell_type": "markdown",
   "id": "591fee5f-f823-45dd-a2c5-23796b403bf5",
   "metadata": {
    "jp-MarkdownHeadingCollapsed": true
   },
   "source": [
    "## Filter genotypes / prevalences\n",
    "It is generally a good idea to do some basic noise removal once the genotypes are created. Some suggestions are provided here."
   ]
  },
  {
   "cell_type": "markdown",
   "id": "86988f8e-902f-47c8-b232-8bf5ae3de379",
   "metadata": {},
   "source": [
    "### Filter variants that are always at low WSAF\n",
    "If a variant is only seen at a low frequency within samples, it is a good indication that it could be just noise. Here we will set a number of samples and minimum WSAF threshold to remove such noise.\n",
    "\n",
    "```python\n",
    "num_samples_wsaf = 2\n",
    "min_wsaf = 0.5\n",
    "wsaf_filter = ((freq > min_wsaf).sum()) >= num_samples_wsaf\n",
    "```\n",
    "\n",
    "The above options will keep the variants that are in at > 0.5 WSAF in at least 2 samples."
   ]
  },
  {
   "cell_type": "code",
   "execution_count": null,
   "id": "3623718f",
   "metadata": {
    "jupyter": {
     "source_hidden": true
    }
   },
   "outputs": [],
   "source": [
    "# USER INPUT\n",
    "num_samples_wsaf = 2\n",
    "min_wsaf = 0.5"
   ]
  },
  {
   "cell_type": "code",
   "execution_count": null,
   "id": "c7a1f90d",
   "metadata": {
    "jupyter": {
     "source_hidden": true
    }
   },
   "outputs": [],
   "source": [
    "wsaf_filter = ((freq > min_wsaf).sum()) >= num_samples_wsaf\n",
    "print((\"{} of {} variants will remain after the wsaf filter\").format(\n",
    "    wsaf_filter.sum(), freq.shape[1]))"
   ]
  },
  {
   "cell_type": "markdown",
   "id": "9ca37e13-8923-4c74-b87f-875aeccaf940",
   "metadata": {
    "jupyter": {
     "source_hidden": true
    }
   },
   "source": [
    "### Filter variants that are observed with low UMI counts\n",
    "If a variant is only supported by a low number of UMIs across the entire sample set, it is another indication of noise.\n",
    "\n",
    "```python\n",
    "num_samples_umi = 2\n",
    "min_umi = 3\n",
    "umi_filter = ((filtered_mutation_counts >= min_umi).sum()) > num_samples_umi\n",
    "```\n",
    "\n",
    "The above options will keep the variants that are supported by at least 3 UMIs in at least 2 samples."
   ]
  },
  {
   "cell_type": "code",
   "execution_count": null,
   "id": "5d5e53b8",
   "metadata": {
    "jupyter": {
     "source_hidden": true
    }
   },
   "outputs": [],
   "source": [
    "# USER INPUT\n",
    "num_samples_umi = 2\n",
    "min_umi = 3"
   ]
  },
  {
   "cell_type": "code",
   "execution_count": null,
   "id": "1887f461",
   "metadata": {
    "jupyter": {
     "source_hidden": true
    }
   },
   "outputs": [],
   "source": [
    "# RUN\n",
    "umi_filter = ((filtered_mutation_counts >= min_umi).sum()) > num_samples_umi\n",
    "print((\"{} of {} variants will remain after the UMI filter\").format(\n",
    "    umi_filter.sum(), freq.shape[1]))"
   ]
  },
  {
   "cell_type": "markdown",
   "id": "0ba2b6d0-9879-42b2-a8f7-45bada81ab73",
   "metadata": {
    "jupyter": {
     "source_hidden": true
    }
   },
   "source": [
    "### Keep variants that were targeted\n",
    "In most projects there are a number of variants that we would like to report, even if they are not seen in the sample set. We would like to stop those variants from being removed by the above filters."
   ]
  },
  {
   "cell_type": "code",
   "execution_count": null,
   "id": "7e39407b",
   "metadata": {
    "jupyter": {
     "source_hidden": true
    }
   },
   "outputs": [],
   "source": [
    "# RUN\n",
    "targ = freq.columns.get_level_values(\"Targeted\") == \"Yes\""
   ]
  },
  {
   "cell_type": "markdown",
   "id": "c381acc7-7bd5-4530-9a74-f7c50856a79c",
   "metadata": {
    "jupyter": {
     "source_hidden": true
    }
   },
   "source": [
    "### Combine filters\n",
    "Keep the variants that are either targeted or passing filters"
   ]
  },
  {
   "cell_type": "code",
   "execution_count": null,
   "id": "183dba3b",
   "metadata": {
    "jupyter": {
     "source_hidden": true
    }
   },
   "outputs": [],
   "source": [
    "variant_mask = targ | (wsaf_filter & umi_filter)\n",
    "print((\"{} variants will remain in the final call set.\\n\"\n",
    "       \"{} variants were targeted and will be kept; and {} will be removed by \"\n",
    "       \"the combined UMI and WSAF filters.\").format(\n",
    "    variant_mask.sum(), targ.sum(), (wsaf_filter & umi_filter).sum()))"
   ]
  },
  {
   "cell_type": "markdown",
   "id": "7e110236-0635-4bf1-ba9c-f31a314db072",
   "metadata": {
    "jupyter": {
     "source_hidden": true
    }
   },
   "source": [
    "## Filter data tables with the combined filters"
   ]
  },
  {
   "cell_type": "code",
   "execution_count": null,
   "id": "0038335c",
   "metadata": {
    "jupyter": {
     "source_hidden": true
    }
   },
   "outputs": [],
   "source": [
    "filtered_genotypes = genotypes.loc[:, variant_mask]\n",
    "filtered_genotypes.to_csv(os.path.join(wdir, \"final_filtered_genotypes.csv\"))\n",
    "filtered_genotypes.head()"
   ]
  },
  {
   "cell_type": "code",
   "execution_count": null,
   "id": "4586302f",
   "metadata": {
    "jupyter": {
     "source_hidden": true
    }
   },
   "outputs": [],
   "source": [
    "filtered_prevalences = prevalences.loc[:, variant_mask]\n",
    "filtered_prevalences.to_csv(os.path.join(wdir, \"final_filtered_prevalences_input_table.csv\"))\n",
    "filtered_prevalences.head()"
   ]
  }
 ],
 "metadata": {
  "kernelspec": {
   "display_name": "Python 3 (ipykernel)",
   "language": "python",
   "name": "python3"
  },
  "language_info": {
   "codemirror_mode": {
    "name": "ipython",
    "version": 3
   },
   "file_extension": ".py",
   "mimetype": "text/x-python",
   "name": "python",
   "nbconvert_exporter": "python",
   "pygments_lexer": "ipython3",
   "version": "3.12.4"
  }
 },
 "nbformat": 4,
 "nbformat_minor": 5
}
