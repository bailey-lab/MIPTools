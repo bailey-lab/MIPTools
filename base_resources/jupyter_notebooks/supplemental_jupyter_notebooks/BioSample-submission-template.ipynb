{
 "cells": [
  {
   "cell_type": "markdown",
   "metadata": {},
   "source": [
    "# NIH biosample submission\n",
    "This notebook was used to create an NIH biosample submission for Plasmodium falciparum MIP sequencing data in collaboration with Rosenthal Lab. It will also serve as a reference for falciparum sample submissions. \n",
    "\n",
    "Submissions are made through the NIH website: https://submit.ncbi.nlm.nih.gov/subs/biosample/\n",
    "\n",
    "There are 5 steps in the submission portal for sample submissions that are listed below. **The main purpose of this notebook is to create the file needed at step 4**.\n",
    "\n",
    "Step 1: Submitter details\n",
    "\n",
    "Step 2: General Info\n",
    "  * Chose data release time (immediate, or future)\n",
    "  * Single sample vs batch: this guide is for batch submissions\n",
    "  \n",
    "Step 3: Sample Type\n",
    "  * Although _pathogen affecting public health_ seems like the natural choice for falciparum, it is the wrong one here. Apparently only bacteria and viruses are in this category. We go with **Microbe**.\n",
    "  \n",
    "Step 4: Attributes\n",
    "  * Upload a file using Excel or text format (tab-delimited) that includes the attributes for each of your BioSamples\n",
    "\n",
    "Step 5: Review and submit."
   ]
  },
  {
   "cell_type": "markdown",
   "metadata": {},
   "source": [
    "### Starting the notebook\n",
    "This notebook was started with the below commands:\n",
    "```bash\n",
    "base_resources=~/git/MIPTools/base_resources\n",
    "data_dir=~/processed/analysis/2020-06/ROS_200612/project_data\n",
    "analysis_dir=~/processed/analysis/2020-06/ROS_200612/sra_submission\n",
    "container=~/shared_bin/miptools_20200728.sif\n",
    "\n",
    "mkdir -p $analysis_dir\n",
    "\n",
    "singularity run --app jupyter \\\n",
    "    -B $base_resources:/opt/resources \\\n",
    "    -B $data_dir:/opt/data \\\n",
    "    -B $analysis_dir:/opt/analysis \\\n",
    "    $container\n",
    "```"
   ]
  },
  {
   "cell_type": "markdown",
   "metadata": {},
   "source": [
    "### Sample meta data\n",
    "We need the sample meta data to be used with the submission. The minimum information needed are a unique name for each sample, collection date, geographical information, sample type (whole blood, dbs, cell culture, etc.). \n",
    "\n",
    "Full description of the meta data fields can be found on the submission portal https://submit.ncbi.nlm.nih.gov/biosample/template/?package=Microbe.1.0&action=definition\n",
    "\n",
    "It is best to have a data folder for the specific project where sequencing data, sample data etc will be stored. In this guide the location of that folder is \"/opt/data/\" and the sample meta data file should be placed there before starting. In the context of singularity MIPTools container, this means that we bind the locat data directory to /opt/data/ when starting the jupyter notebook (see above). New files will be saved to /opt/analysis folder."
   ]
  },
  {
   "cell_type": "markdown",
   "metadata": {},
   "source": [
    "Import required libraries"
   ]
  },
  {
   "cell_type": "code",
   "execution_count": 2,
   "metadata": {},
   "outputs": [],
   "source": [
    "import sys\n",
    "sys.path.append(\"/opt/src\")\n",
    "import os\n",
    "import subprocess\n",
    "import pandas as pd"
   ]
  },
  {
   "cell_type": "markdown",
   "metadata": {},
   "source": [
    "Provide meta data file name and data directory. Import the sample meta data file which is a comma separated text file in this guide."
   ]
  },
  {
   "cell_type": "code",
   "execution_count": 4,
   "metadata": {},
   "outputs": [
    {
     "data": {
      "text/html": [
       "<div>\n",
       "<style scoped>\n",
       "    .dataframe tbody tr th:only-of-type {\n",
       "        vertical-align: middle;\n",
       "    }\n",
       "\n",
       "    .dataframe tbody tr th {\n",
       "        vertical-align: top;\n",
       "    }\n",
       "\n",
       "    .dataframe thead th {\n",
       "        text-align: right;\n",
       "    }\n",
       "</style>\n",
       "<table border=\"1\" class=\"dataframe\">\n",
       "  <thead>\n",
       "    <tr style=\"text-align: right;\">\n",
       "      <th></th>\n",
       "      <th>Unnamed: 0</th>\n",
       "      <th>Age (years)</th>\n",
       "      <th>Barcode</th>\n",
       "      <th>Code</th>\n",
       "      <th>Comments</th>\n",
       "      <th>Control Type</th>\n",
       "      <th>DNA Concentration (ng/ul)</th>\n",
       "      <th>Date of collection</th>\n",
       "      <th>District</th>\n",
       "      <th>Human DNA</th>\n",
       "      <th>...</th>\n",
       "      <th>Unnamed: 5</th>\n",
       "      <th>Well</th>\n",
       "      <th>Well position</th>\n",
       "      <th>Year</th>\n",
       "      <th>extraction</th>\n",
       "      <th>level_0</th>\n",
       "      <th>level_1</th>\n",
       "      <th>plate</th>\n",
       "      <th>sample ID</th>\n",
       "      <th>volume ul</th>\n",
       "    </tr>\n",
       "  </thead>\n",
       "  <tbody>\n",
       "    <tr>\n",
       "      <th>0</th>\n",
       "      <td>0</td>\n",
       "      <td>10.0</td>\n",
       "      <td>NaN</td>\n",
       "      <td>NaN</td>\n",
       "      <td>NaN</td>\n",
       "      <td>NaN</td>\n",
       "      <td>NaN</td>\n",
       "      <td>5/18/2018</td>\n",
       "      <td>Agago</td>\n",
       "      <td>NaN</td>\n",
       "      <td>...</td>\n",
       "      <td>NaN</td>\n",
       "      <td>NaN</td>\n",
       "      <td>A01</td>\n",
       "      <td>2018.0</td>\n",
       "      <td>chelex</td>\n",
       "      <td>NaN</td>\n",
       "      <td>NaN</td>\n",
       "      <td>NaN</td>\n",
       "      <td>AG-3-01</td>\n",
       "      <td>50.0</td>\n",
       "    </tr>\n",
       "    <tr>\n",
       "      <th>1</th>\n",
       "      <td>1</td>\n",
       "      <td>2.0</td>\n",
       "      <td>NaN</td>\n",
       "      <td>NaN</td>\n",
       "      <td>NaN</td>\n",
       "      <td>NaN</td>\n",
       "      <td>NaN</td>\n",
       "      <td>5/18/2018</td>\n",
       "      <td>Agago</td>\n",
       "      <td>NaN</td>\n",
       "      <td>...</td>\n",
       "      <td>NaN</td>\n",
       "      <td>NaN</td>\n",
       "      <td>A02</td>\n",
       "      <td>2018.0</td>\n",
       "      <td>chelex</td>\n",
       "      <td>NaN</td>\n",
       "      <td>NaN</td>\n",
       "      <td>NaN</td>\n",
       "      <td>AG-3-02</td>\n",
       "      <td>50.0</td>\n",
       "    </tr>\n",
       "    <tr>\n",
       "      <th>2</th>\n",
       "      <td>2</td>\n",
       "      <td>7.0</td>\n",
       "      <td>NaN</td>\n",
       "      <td>NaN</td>\n",
       "      <td>NaN</td>\n",
       "      <td>NaN</td>\n",
       "      <td>NaN</td>\n",
       "      <td>5/19/2018</td>\n",
       "      <td>Agago</td>\n",
       "      <td>NaN</td>\n",
       "      <td>...</td>\n",
       "      <td>NaN</td>\n",
       "      <td>NaN</td>\n",
       "      <td>A03</td>\n",
       "      <td>2018.0</td>\n",
       "      <td>chelex</td>\n",
       "      <td>NaN</td>\n",
       "      <td>NaN</td>\n",
       "      <td>NaN</td>\n",
       "      <td>AG-3-03</td>\n",
       "      <td>50.0</td>\n",
       "    </tr>\n",
       "    <tr>\n",
       "      <th>3</th>\n",
       "      <td>3</td>\n",
       "      <td>10.0</td>\n",
       "      <td>NaN</td>\n",
       "      <td>NaN</td>\n",
       "      <td>NaN</td>\n",
       "      <td>NaN</td>\n",
       "      <td>NaN</td>\n",
       "      <td>5/22/2018</td>\n",
       "      <td>Agago</td>\n",
       "      <td>NaN</td>\n",
       "      <td>...</td>\n",
       "      <td>NaN</td>\n",
       "      <td>NaN</td>\n",
       "      <td>A04</td>\n",
       "      <td>2018.0</td>\n",
       "      <td>chelex</td>\n",
       "      <td>NaN</td>\n",
       "      <td>NaN</td>\n",
       "      <td>NaN</td>\n",
       "      <td>AG-3-04</td>\n",
       "      <td>50.0</td>\n",
       "    </tr>\n",
       "    <tr>\n",
       "      <th>4</th>\n",
       "      <td>4</td>\n",
       "      <td>1.3</td>\n",
       "      <td>NaN</td>\n",
       "      <td>NaN</td>\n",
       "      <td>NaN</td>\n",
       "      <td>NaN</td>\n",
       "      <td>NaN</td>\n",
       "      <td>5/23/2018</td>\n",
       "      <td>Agago</td>\n",
       "      <td>NaN</td>\n",
       "      <td>...</td>\n",
       "      <td>NaN</td>\n",
       "      <td>NaN</td>\n",
       "      <td>A05</td>\n",
       "      <td>2018.0</td>\n",
       "      <td>chelex</td>\n",
       "      <td>NaN</td>\n",
       "      <td>NaN</td>\n",
       "      <td>NaN</td>\n",
       "      <td>AG-3-05</td>\n",
       "      <td>50.0</td>\n",
       "    </tr>\n",
       "  </tbody>\n",
       "</table>\n",
       "<p>5 rows × 33 columns</p>\n",
       "</div>"
      ],
      "text/plain": [
       "   Unnamed: 0  Age (years)  Barcode Code  Comments Control Type  \\\n",
       "0           0         10.0      NaN  NaN       NaN          NaN   \n",
       "1           1          2.0      NaN  NaN       NaN          NaN   \n",
       "2           2          7.0      NaN  NaN       NaN          NaN   \n",
       "3           3         10.0      NaN  NaN       NaN          NaN   \n",
       "4           4          1.3      NaN  NaN       NaN          NaN   \n",
       "\n",
       "  DNA Concentration (ng/ul) Date of collection District  Human DNA  ...  \\\n",
       "0                       NaN          5/18/2018    Agago        NaN  ...   \n",
       "1                       NaN          5/18/2018    Agago        NaN  ...   \n",
       "2                       NaN          5/19/2018    Agago        NaN  ...   \n",
       "3                       NaN          5/22/2018    Agago        NaN  ...   \n",
       "4                       NaN          5/23/2018    Agago        NaN  ...   \n",
       "\n",
       "  Unnamed: 5  Well  Well position    Year extraction level_0 level_1 plate  \\\n",
       "0        NaN   NaN            A01  2018.0     chelex     NaN     NaN   NaN   \n",
       "1        NaN   NaN            A02  2018.0     chelex     NaN     NaN   NaN   \n",
       "2        NaN   NaN            A03  2018.0     chelex     NaN     NaN   NaN   \n",
       "3        NaN   NaN            A04  2018.0     chelex     NaN     NaN   NaN   \n",
       "4        NaN   NaN            A05  2018.0     chelex     NaN     NaN   NaN   \n",
       "\n",
       "  sample ID volume ul  \n",
       "0   AG-3-01      50.0  \n",
       "1   AG-3-02      50.0  \n",
       "2   AG-3-03      50.0  \n",
       "3   AG-3-04      50.0  \n",
       "4   AG-3-05      50.0  \n",
       "\n",
       "[5 rows x 33 columns]"
      ]
     },
     "execution_count": 4,
     "metadata": {},
     "output_type": "execute_result"
    }
   ],
   "source": [
    "data_dir = \"/opt/data/\"\n",
    "sample_meta_file = \"combined_sample_meta.csv\"\n",
    "sample_meta = pd.read_csv(os.path.join(data_dir, sample_meta_file))\n",
    "sample_meta.head()"
   ]
  },
  {
   "cell_type": "markdown",
   "metadata": {},
   "source": [
    "Below are the required headers for the submission."
   ]
  },
  {
   "cell_type": "code",
   "execution_count": 7,
   "metadata": {},
   "outputs": [],
   "source": [
    "sra_meta_keys = [\"sample_name\", \"organism\", \"isolate\", \"host\",\n",
    "                 \"isolation_source\", \"collection_date\", \"geo_loc_name\",\n",
    "                 \"sample_type\"]"
   ]
  },
  {
   "cell_type": "markdown",
   "metadata": {},
   "source": [
    "Find out what the headers provided in the sample meta file are"
   ]
  },
  {
   "cell_type": "code",
   "execution_count": 3,
   "metadata": {},
   "outputs": [
    {
     "data": {
      "text/plain": [
       "Index(['Unnamed: 0', 'Age (years)', 'Barcode', 'Code', 'Comments',\n",
       "       'Control Type', 'DNA Concentration (ng/ul)', 'Date of collection',\n",
       "       'District', 'Human DNA', 'MIPS plate ID', 'Parasite Density', 'Plate ',\n",
       "       'Rosenthal Lab Sample ID', 'S/N', 'SITE', 'Sample Name', 'Site',\n",
       "       'Specimen Type', 'Study Short Code', 'Survey round', 'Test', 'UID',\n",
       "       'Unnamed: 5', 'Well', 'Well position', 'Year', 'extraction', 'level_0',\n",
       "       'level_1', 'plate', 'sample ID', 'volume ul'],\n",
       "      dtype='object')"
      ]
     },
     "execution_count": 3,
     "metadata": {},
     "output_type": "execute_result"
    }
   ],
   "source": [
    "sample_meta.columns"
   ]
  },
  {
   "cell_type": "markdown",
   "metadata": {},
   "source": [
    "**Important:** A user can submit a sample name to the BioSample database only once. So if you had submitted any sample that is used in this project, you'll need to remove those samples here.\n",
    "\n",
    "This meta file contains control samples as well and those were submitted to the database before, so we'll remove those."
   ]
  },
  {
   "cell_type": "code",
   "execution_count": 5,
   "metadata": {},
   "outputs": [],
   "source": [
    "sample_meta = sample_meta.loc[sample_meta[\"Control Type\"].isnull()]"
   ]
  },
  {
   "cell_type": "markdown",
   "metadata": {},
   "source": [
    "### sample_name and isolate\n",
    "In our lab, we use \"Sample Name\" header as a sample's unique name. This will correspond to \"sample_name\" field for the submission.\n",
    "\n",
    "isolate header refers to \"identification or description of the specific individual from which this sample was obtained\", as per the sumbission portal. For our purposes, this is the same as the sample name. However, if we had two longitidunal samples from the same human individual, those two samples would have the same isolate ID.\n",
    "\n",
    "So we'll use \"Sample Name\" for both of these fields."
   ]
  },
  {
   "cell_type": "code",
   "execution_count": null,
   "metadata": {},
   "outputs": [],
   "source": [
    "sample_meta[\"sample_name\"] = sample_meta[\"isolate\"] = sample_meta[\"Sample Name\"]"
   ]
  },
  {
   "cell_type": "markdown",
   "metadata": {},
   "source": [
    "### collection_date\n",
    "Our meta file has a \"Date of collection\" field but not all samples have that information. All samples have a \"Year\" field, so we'll use that instead. Year field is a float in this table because control samples, so those will be converted to integer values. Last entries in the meta data shows the missing dates below."
   ]
  },
  {
   "cell_type": "code",
   "execution_count": 12,
   "metadata": {},
   "outputs": [
    {
     "data": {
      "text/html": [
       "<div>\n",
       "<style scoped>\n",
       "    .dataframe tbody tr th:only-of-type {\n",
       "        vertical-align: middle;\n",
       "    }\n",
       "\n",
       "    .dataframe tbody tr th {\n",
       "        vertical-align: top;\n",
       "    }\n",
       "\n",
       "    .dataframe thead th {\n",
       "        text-align: right;\n",
       "    }\n",
       "</style>\n",
       "<table border=\"1\" class=\"dataframe\">\n",
       "  <thead>\n",
       "    <tr style=\"text-align: right;\">\n",
       "      <th></th>\n",
       "      <th>Unnamed: 0</th>\n",
       "      <th>Age (years)</th>\n",
       "      <th>Barcode</th>\n",
       "      <th>Code</th>\n",
       "      <th>Comments</th>\n",
       "      <th>Control Type</th>\n",
       "      <th>DNA Concentration (ng/ul)</th>\n",
       "      <th>Date of collection</th>\n",
       "      <th>District</th>\n",
       "      <th>Human DNA</th>\n",
       "      <th>...</th>\n",
       "      <th>Unnamed: 5</th>\n",
       "      <th>Well</th>\n",
       "      <th>Well position</th>\n",
       "      <th>Year</th>\n",
       "      <th>extraction</th>\n",
       "      <th>level_0</th>\n",
       "      <th>level_1</th>\n",
       "      <th>plate</th>\n",
       "      <th>sample ID</th>\n",
       "      <th>volume ul</th>\n",
       "    </tr>\n",
       "  </thead>\n",
       "  <tbody>\n",
       "    <tr>\n",
       "      <th>1401</th>\n",
       "      <td>1401</td>\n",
       "      <td>NaN</td>\n",
       "      <td>8.037052e+09</td>\n",
       "      <td>KB</td>\n",
       "      <td>NaN</td>\n",
       "      <td>NaN</td>\n",
       "      <td>NaN</td>\n",
       "      <td>NaN</td>\n",
       "      <td>Kabale</td>\n",
       "      <td>NaN</td>\n",
       "      <td>...</td>\n",
       "      <td>NaN</td>\n",
       "      <td>F09</td>\n",
       "      <td>NaN</td>\n",
       "      <td>2019.0</td>\n",
       "      <td>NaN</td>\n",
       "      <td>plate 8</td>\n",
       "      <td>68.0</td>\n",
       "      <td>plate 8</td>\n",
       "      <td>NaN</td>\n",
       "      <td>NaN</td>\n",
       "    </tr>\n",
       "    <tr>\n",
       "      <th>1402</th>\n",
       "      <td>1402</td>\n",
       "      <td>NaN</td>\n",
       "      <td>8.037052e+09</td>\n",
       "      <td>KB</td>\n",
       "      <td>NaN</td>\n",
       "      <td>NaN</td>\n",
       "      <td>NaN</td>\n",
       "      <td>NaN</td>\n",
       "      <td>Kabale</td>\n",
       "      <td>NaN</td>\n",
       "      <td>...</td>\n",
       "      <td>NaN</td>\n",
       "      <td>F10</td>\n",
       "      <td>NaN</td>\n",
       "      <td>2019.0</td>\n",
       "      <td>NaN</td>\n",
       "      <td>plate 8</td>\n",
       "      <td>69.0</td>\n",
       "      <td>plate 8</td>\n",
       "      <td>NaN</td>\n",
       "      <td>NaN</td>\n",
       "    </tr>\n",
       "    <tr>\n",
       "      <th>1403</th>\n",
       "      <td>1403</td>\n",
       "      <td>NaN</td>\n",
       "      <td>8.037051e+09</td>\n",
       "      <td>KB</td>\n",
       "      <td>NaN</td>\n",
       "      <td>NaN</td>\n",
       "      <td>NaN</td>\n",
       "      <td>NaN</td>\n",
       "      <td>Kabale</td>\n",
       "      <td>NaN</td>\n",
       "      <td>...</td>\n",
       "      <td>NaN</td>\n",
       "      <td>F11</td>\n",
       "      <td>NaN</td>\n",
       "      <td>2019.0</td>\n",
       "      <td>NaN</td>\n",
       "      <td>plate 8</td>\n",
       "      <td>70.0</td>\n",
       "      <td>plate 8</td>\n",
       "      <td>NaN</td>\n",
       "      <td>NaN</td>\n",
       "    </tr>\n",
       "    <tr>\n",
       "      <th>1404</th>\n",
       "      <td>1404</td>\n",
       "      <td>NaN</td>\n",
       "      <td>8.037051e+09</td>\n",
       "      <td>KB</td>\n",
       "      <td>NaN</td>\n",
       "      <td>NaN</td>\n",
       "      <td>NaN</td>\n",
       "      <td>NaN</td>\n",
       "      <td>Kabale</td>\n",
       "      <td>NaN</td>\n",
       "      <td>...</td>\n",
       "      <td>NaN</td>\n",
       "      <td>F12</td>\n",
       "      <td>NaN</td>\n",
       "      <td>2019.0</td>\n",
       "      <td>NaN</td>\n",
       "      <td>plate 8</td>\n",
       "      <td>71.0</td>\n",
       "      <td>plate 8</td>\n",
       "      <td>NaN</td>\n",
       "      <td>NaN</td>\n",
       "    </tr>\n",
       "    <tr>\n",
       "      <th>1405</th>\n",
       "      <td>1405</td>\n",
       "      <td>NaN</td>\n",
       "      <td>8.037051e+09</td>\n",
       "      <td>KB</td>\n",
       "      <td>NaN</td>\n",
       "      <td>NaN</td>\n",
       "      <td>NaN</td>\n",
       "      <td>NaN</td>\n",
       "      <td>Kabale</td>\n",
       "      <td>NaN</td>\n",
       "      <td>...</td>\n",
       "      <td>NaN</td>\n",
       "      <td>G01</td>\n",
       "      <td>NaN</td>\n",
       "      <td>2019.0</td>\n",
       "      <td>NaN</td>\n",
       "      <td>plate 8</td>\n",
       "      <td>72.0</td>\n",
       "      <td>plate 8</td>\n",
       "      <td>NaN</td>\n",
       "      <td>NaN</td>\n",
       "    </tr>\n",
       "  </tbody>\n",
       "</table>\n",
       "<p>5 rows × 33 columns</p>\n",
       "</div>"
      ],
      "text/plain": [
       "      Unnamed: 0  Age (years)       Barcode Code  Comments Control Type  \\\n",
       "1401        1401          NaN  8.037052e+09   KB       NaN          NaN   \n",
       "1402        1402          NaN  8.037052e+09   KB       NaN          NaN   \n",
       "1403        1403          NaN  8.037051e+09   KB       NaN          NaN   \n",
       "1404        1404          NaN  8.037051e+09   KB       NaN          NaN   \n",
       "1405        1405          NaN  8.037051e+09   KB       NaN          NaN   \n",
       "\n",
       "     DNA Concentration (ng/ul) Date of collection District  Human DNA  ...  \\\n",
       "1401                       NaN                NaN   Kabale        NaN  ...   \n",
       "1402                       NaN                NaN   Kabale        NaN  ...   \n",
       "1403                       NaN                NaN   Kabale        NaN  ...   \n",
       "1404                       NaN                NaN   Kabale        NaN  ...   \n",
       "1405                       NaN                NaN   Kabale        NaN  ...   \n",
       "\n",
       "     Unnamed: 5  Well  Well position    Year extraction  level_0 level_1  \\\n",
       "1401        NaN   F09            NaN  2019.0        NaN  plate 8    68.0   \n",
       "1402        NaN   F10            NaN  2019.0        NaN  plate 8    69.0   \n",
       "1403        NaN   F11            NaN  2019.0        NaN  plate 8    70.0   \n",
       "1404        NaN   F12            NaN  2019.0        NaN  plate 8    71.0   \n",
       "1405        NaN   G01            NaN  2019.0        NaN  plate 8    72.0   \n",
       "\n",
       "        plate sample ID volume ul  \n",
       "1401  plate 8       NaN       NaN  \n",
       "1402  plate 8       NaN       NaN  \n",
       "1403  plate 8       NaN       NaN  \n",
       "1404  plate 8       NaN       NaN  \n",
       "1405  plate 8       NaN       NaN  \n",
       "\n",
       "[5 rows x 33 columns]"
      ]
     },
     "execution_count": 12,
     "metadata": {},
     "output_type": "execute_result"
    }
   ],
   "source": [
    "sample_meta.tail()"
   ]
  },
  {
   "cell_type": "code",
   "execution_count": null,
   "metadata": {},
   "outputs": [],
   "source": [
    "sample_meta[\"collection_date\"] = sample_meta[\"Year\"].astype(int)"
   ]
  },
  {
   "cell_type": "markdown",
   "metadata": {},
   "source": [
    "### organism and host\n",
    "For this submission the organism is Pf, host is human"
   ]
  },
  {
   "cell_type": "code",
   "execution_count": null,
   "metadata": {},
   "outputs": [],
   "source": [
    "sample_meta[\"organism\"] = \"Plasmodium falciparum\"\n",
    "sample_meta[\"host\"] = \"Homo sapiens\""
   ]
  },
  {
   "cell_type": "markdown",
   "metadata": {},
   "source": [
    "### isolation_source and sample_type\n",
    "Dried blood spot describes both the isolation source and sample type"
   ]
  },
  {
   "cell_type": "code",
   "execution_count": null,
   "metadata": {},
   "outputs": [],
   "source": [
    "sample_meta[\"isolation_source\"] = sample_meta[\"sample_type\"] = \"Dried Blood Spot\""
   ]
  },
  {
   "cell_type": "markdown",
   "metadata": {},
   "source": [
    "### geo_loc_name\n",
    "locations are given at the district level. So we can use Country: District notation as suggested at the submission portal."
   ]
  },
  {
   "cell_type": "code",
   "execution_count": null,
   "metadata": {},
   "outputs": [],
   "source": [
    "sample_meta[\"geo_loc_name\"] = \"Uganda: \" + sample_meta[\"District\"]"
   ]
  },
  {
   "cell_type": "markdown",
   "metadata": {},
   "source": [
    "Get the required columns only"
   ]
  },
  {
   "cell_type": "code",
   "execution_count": 40,
   "metadata": {},
   "outputs": [
    {
     "data": {
      "text/plain": [
       "(1406, 8)"
      ]
     },
     "execution_count": 40,
     "metadata": {},
     "output_type": "execute_result"
    }
   ],
   "source": [
    "sra_meta = sample_meta[sra_meta_keys]\n",
    "sra_meta.shape"
   ]
  },
  {
   "cell_type": "markdown",
   "metadata": {},
   "source": [
    "Check for any missing values."
   ]
  },
  {
   "cell_type": "code",
   "execution_count": 42,
   "metadata": {},
   "outputs": [
    {
     "data": {
      "text/html": [
       "<div>\n",
       "<style scoped>\n",
       "    .dataframe tbody tr th:only-of-type {\n",
       "        vertical-align: middle;\n",
       "    }\n",
       "\n",
       "    .dataframe tbody tr th {\n",
       "        vertical-align: top;\n",
       "    }\n",
       "\n",
       "    .dataframe thead th {\n",
       "        text-align: right;\n",
       "    }\n",
       "</style>\n",
       "<table border=\"1\" class=\"dataframe\">\n",
       "  <thead>\n",
       "    <tr style=\"text-align: right;\">\n",
       "      <th></th>\n",
       "      <th>sample_name</th>\n",
       "      <th>organism</th>\n",
       "      <th>isolate</th>\n",
       "      <th>host</th>\n",
       "      <th>isolation_source</th>\n",
       "      <th>collection_date</th>\n",
       "      <th>geo_loc_name</th>\n",
       "      <th>sample_type</th>\n",
       "    </tr>\n",
       "  </thead>\n",
       "  <tbody>\n",
       "    <tr>\n",
       "      <th>484</th>\n",
       "      <td>RXS485</td>\n",
       "      <td>Plasmodium falciparum</td>\n",
       "      <td>RXS485</td>\n",
       "      <td>Homo sapiens</td>\n",
       "      <td>Dried Blood Spot</td>\n",
       "      <td>2018</td>\n",
       "      <td>NaN</td>\n",
       "      <td>Dried Blood Spot</td>\n",
       "    </tr>\n",
       "    <tr>\n",
       "      <th>485</th>\n",
       "      <td>RXS486</td>\n",
       "      <td>Plasmodium falciparum</td>\n",
       "      <td>RXS486</td>\n",
       "      <td>Homo sapiens</td>\n",
       "      <td>Dried Blood Spot</td>\n",
       "      <td>2018</td>\n",
       "      <td>NaN</td>\n",
       "      <td>Dried Blood Spot</td>\n",
       "    </tr>\n",
       "    <tr>\n",
       "      <th>486</th>\n",
       "      <td>RXS487</td>\n",
       "      <td>Plasmodium falciparum</td>\n",
       "      <td>RXS487</td>\n",
       "      <td>Homo sapiens</td>\n",
       "      <td>Dried Blood Spot</td>\n",
       "      <td>2018</td>\n",
       "      <td>NaN</td>\n",
       "      <td>Dried Blood Spot</td>\n",
       "    </tr>\n",
       "    <tr>\n",
       "      <th>487</th>\n",
       "      <td>RXS488</td>\n",
       "      <td>Plasmodium falciparum</td>\n",
       "      <td>RXS488</td>\n",
       "      <td>Homo sapiens</td>\n",
       "      <td>Dried Blood Spot</td>\n",
       "      <td>2018</td>\n",
       "      <td>NaN</td>\n",
       "      <td>Dried Blood Spot</td>\n",
       "    </tr>\n",
       "  </tbody>\n",
       "</table>\n",
       "</div>"
      ],
      "text/plain": [
       "    sample_name               organism isolate          host  \\\n",
       "484      RXS485  Plasmodium falciparum  RXS485  Homo sapiens   \n",
       "485      RXS486  Plasmodium falciparum  RXS486  Homo sapiens   \n",
       "486      RXS487  Plasmodium falciparum  RXS487  Homo sapiens   \n",
       "487      RXS488  Plasmodium falciparum  RXS488  Homo sapiens   \n",
       "\n",
       "     isolation_source  collection_date geo_loc_name       sample_type  \n",
       "484  Dried Blood Spot             2018          NaN  Dried Blood Spot  \n",
       "485  Dried Blood Spot             2018          NaN  Dried Blood Spot  \n",
       "486  Dried Blood Spot             2018          NaN  Dried Blood Spot  \n",
       "487  Dried Blood Spot             2018          NaN  Dried Blood Spot  "
      ]
     },
     "execution_count": 42,
     "metadata": {},
     "output_type": "execute_result"
    }
   ],
   "source": [
    "sra_meta.loc[sra_meta.isnull().any(1)]"
   ]
  },
  {
   "cell_type": "markdown",
   "metadata": {},
   "source": [
    "4 samples seem to have missing values for the district name. We'll replace those with \"not available\"."
   ]
  },
  {
   "cell_type": "code",
   "execution_count": 43,
   "metadata": {},
   "outputs": [],
   "source": [
    "sra_meta[\"geo_loc_name\"].fillna(\"not available\", inplace=True)"
   ]
  },
  {
   "cell_type": "markdown",
   "metadata": {},
   "source": [
    "### Maximum number of samples\n",
    "The database allows a maximum of 999 samples per submission. We have over 1400, so we'll divide them into two (one per year) and perform two submissions."
   ]
  },
  {
   "cell_type": "code",
   "execution_count": 46,
   "metadata": {},
   "outputs": [],
   "source": [
    "sra_meta.loc[sra_meta[\"collection_date\"] == 2018].to_csv(\n",
    "    \"/opt/data/project_data/sra_sample_meta_2018.tsv\", sep=\"\\t\", index=False)"
   ]
  },
  {
   "cell_type": "code",
   "execution_count": 47,
   "metadata": {},
   "outputs": [],
   "source": [
    "sra_meta.loc[sra_meta[\"collection_date\"] == 2019].to_csv(\n",
    "    \"/opt/data/project_data/sra_sample_meta_2019.tsv\", sep=\"\\t\", index=False)"
   ]
  },
  {
   "cell_type": "markdown",
   "metadata": {},
   "source": [
    "### Adding biosample_accession numbers\n",
    "Once we have the files created above we go ahead with the sample submission on the submission portal. In a minute or two, the sumbission should be processed and we'd get a \"attributes file with BioSample accessions\" on the portal. We'll download that file to the data directory so that we can add the biosample accessions to the sample meta data.\n",
    "\n",
    "For this submission, the attribute files were saved to the data dir as \"sra_output_2018.tsv\" and \"sra_output_2019.tsv\". We'll load those files."
   ]
  },
  {
   "cell_type": "code",
   "execution_count": 48,
   "metadata": {},
   "outputs": [
    {
     "data": {
      "text/html": [
       "<div>\n",
       "<style scoped>\n",
       "    .dataframe tbody tr th:only-of-type {\n",
       "        vertical-align: middle;\n",
       "    }\n",
       "\n",
       "    .dataframe tbody tr th {\n",
       "        vertical-align: top;\n",
       "    }\n",
       "\n",
       "    .dataframe thead th {\n",
       "        text-align: right;\n",
       "    }\n",
       "</style>\n",
       "<table border=\"1\" class=\"dataframe\">\n",
       "  <thead>\n",
       "    <tr style=\"text-align: right;\">\n",
       "      <th></th>\n",
       "      <th>accession</th>\n",
       "      <th>message</th>\n",
       "      <th>sample_name</th>\n",
       "      <th>organism</th>\n",
       "      <th>isolate</th>\n",
       "      <th>host</th>\n",
       "      <th>isolation_source</th>\n",
       "      <th>collection_date</th>\n",
       "      <th>geo_loc_name</th>\n",
       "      <th>sample_type</th>\n",
       "    </tr>\n",
       "  </thead>\n",
       "  <tbody>\n",
       "    <tr>\n",
       "      <th>0</th>\n",
       "      <td>SAMN15749034</td>\n",
       "      <td>Successfully loaded</td>\n",
       "      <td>RXS1</td>\n",
       "      <td>Plasmodium falciparum</td>\n",
       "      <td>RXS1</td>\n",
       "      <td>Homo sapiens</td>\n",
       "      <td>Dried Blood Spot</td>\n",
       "      <td>2018</td>\n",
       "      <td>Uganda: Agago</td>\n",
       "      <td>Dried Blood Spot</td>\n",
       "    </tr>\n",
       "    <tr>\n",
       "      <th>1</th>\n",
       "      <td>SAMN15749035</td>\n",
       "      <td>Successfully loaded</td>\n",
       "      <td>RXS2</td>\n",
       "      <td>Plasmodium falciparum</td>\n",
       "      <td>RXS2</td>\n",
       "      <td>Homo sapiens</td>\n",
       "      <td>Dried Blood Spot</td>\n",
       "      <td>2018</td>\n",
       "      <td>Uganda: Agago</td>\n",
       "      <td>Dried Blood Spot</td>\n",
       "    </tr>\n",
       "    <tr>\n",
       "      <th>2</th>\n",
       "      <td>SAMN15749036</td>\n",
       "      <td>Successfully loaded</td>\n",
       "      <td>RXS3</td>\n",
       "      <td>Plasmodium falciparum</td>\n",
       "      <td>RXS3</td>\n",
       "      <td>Homo sapiens</td>\n",
       "      <td>Dried Blood Spot</td>\n",
       "      <td>2018</td>\n",
       "      <td>Uganda: Agago</td>\n",
       "      <td>Dried Blood Spot</td>\n",
       "    </tr>\n",
       "    <tr>\n",
       "      <th>3</th>\n",
       "      <td>SAMN15749037</td>\n",
       "      <td>Successfully loaded</td>\n",
       "      <td>RXS4</td>\n",
       "      <td>Plasmodium falciparum</td>\n",
       "      <td>RXS4</td>\n",
       "      <td>Homo sapiens</td>\n",
       "      <td>Dried Blood Spot</td>\n",
       "      <td>2018</td>\n",
       "      <td>Uganda: Agago</td>\n",
       "      <td>Dried Blood Spot</td>\n",
       "    </tr>\n",
       "    <tr>\n",
       "      <th>4</th>\n",
       "      <td>SAMN15749038</td>\n",
       "      <td>Successfully loaded</td>\n",
       "      <td>RXS5</td>\n",
       "      <td>Plasmodium falciparum</td>\n",
       "      <td>RXS5</td>\n",
       "      <td>Homo sapiens</td>\n",
       "      <td>Dried Blood Spot</td>\n",
       "      <td>2018</td>\n",
       "      <td>Uganda: Agago</td>\n",
       "      <td>Dried Blood Spot</td>\n",
       "    </tr>\n",
       "  </tbody>\n",
       "</table>\n",
       "</div>"
      ],
      "text/plain": [
       "      accession              message sample_name               organism  \\\n",
       "0  SAMN15749034  Successfully loaded        RXS1  Plasmodium falciparum   \n",
       "1  SAMN15749035  Successfully loaded        RXS2  Plasmodium falciparum   \n",
       "2  SAMN15749036  Successfully loaded        RXS3  Plasmodium falciparum   \n",
       "3  SAMN15749037  Successfully loaded        RXS4  Plasmodium falciparum   \n",
       "4  SAMN15749038  Successfully loaded        RXS5  Plasmodium falciparum   \n",
       "\n",
       "  isolate          host  isolation_source  collection_date   geo_loc_name  \\\n",
       "0    RXS1  Homo sapiens  Dried Blood Spot             2018  Uganda: Agago   \n",
       "1    RXS2  Homo sapiens  Dried Blood Spot             2018  Uganda: Agago   \n",
       "2    RXS3  Homo sapiens  Dried Blood Spot             2018  Uganda: Agago   \n",
       "3    RXS4  Homo sapiens  Dried Blood Spot             2018  Uganda: Agago   \n",
       "4    RXS5  Homo sapiens  Dried Blood Spot             2018  Uganda: Agago   \n",
       "\n",
       "        sample_type  \n",
       "0  Dried Blood Spot  \n",
       "1  Dried Blood Spot  \n",
       "2  Dried Blood Spot  \n",
       "3  Dried Blood Spot  \n",
       "4  Dried Blood Spot  "
      ]
     },
     "execution_count": 48,
     "metadata": {},
     "output_type": "execute_result"
    }
   ],
   "source": [
    "output_file = os.path.join(data_dir, \"sra_output_2018.tsv\")\n",
    "sra_output_2018 = pd.read_table(output_file)\n",
    "sra_output_2018.head()"
   ]
  },
  {
   "cell_type": "code",
   "execution_count": 49,
   "metadata": {},
   "outputs": [
    {
     "data": {
      "text/html": [
       "<div>\n",
       "<style scoped>\n",
       "    .dataframe tbody tr th:only-of-type {\n",
       "        vertical-align: middle;\n",
       "    }\n",
       "\n",
       "    .dataframe tbody tr th {\n",
       "        vertical-align: top;\n",
       "    }\n",
       "\n",
       "    .dataframe thead th {\n",
       "        text-align: right;\n",
       "    }\n",
       "</style>\n",
       "<table border=\"1\" class=\"dataframe\">\n",
       "  <thead>\n",
       "    <tr style=\"text-align: right;\">\n",
       "      <th></th>\n",
       "      <th>accession</th>\n",
       "      <th>message</th>\n",
       "      <th>sample_name</th>\n",
       "      <th>organism</th>\n",
       "      <th>isolate</th>\n",
       "      <th>host</th>\n",
       "      <th>isolation_source</th>\n",
       "      <th>collection_date</th>\n",
       "      <th>geo_loc_name</th>\n",
       "      <th>sample_type</th>\n",
       "    </tr>\n",
       "  </thead>\n",
       "  <tbody>\n",
       "    <tr>\n",
       "      <th>0</th>\n",
       "      <td>SAMN15749698</td>\n",
       "      <td>Successfully loaded</td>\n",
       "      <td>TO-04-01</td>\n",
       "      <td>Plasmodium falciparum</td>\n",
       "      <td>TO-04-01</td>\n",
       "      <td>Homo sapiens</td>\n",
       "      <td>Dried Blood Spot</td>\n",
       "      <td>2019</td>\n",
       "      <td>Uganda: Tororo</td>\n",
       "      <td>Dried Blood Spot</td>\n",
       "    </tr>\n",
       "    <tr>\n",
       "      <th>1</th>\n",
       "      <td>SAMN15749699</td>\n",
       "      <td>Successfully loaded</td>\n",
       "      <td>TO-04-02</td>\n",
       "      <td>Plasmodium falciparum</td>\n",
       "      <td>TO-04-02</td>\n",
       "      <td>Homo sapiens</td>\n",
       "      <td>Dried Blood Spot</td>\n",
       "      <td>2019</td>\n",
       "      <td>Uganda: Tororo</td>\n",
       "      <td>Dried Blood Spot</td>\n",
       "    </tr>\n",
       "    <tr>\n",
       "      <th>2</th>\n",
       "      <td>SAMN15749700</td>\n",
       "      <td>Successfully loaded</td>\n",
       "      <td>TO-04-03</td>\n",
       "      <td>Plasmodium falciparum</td>\n",
       "      <td>TO-04-03</td>\n",
       "      <td>Homo sapiens</td>\n",
       "      <td>Dried Blood Spot</td>\n",
       "      <td>2019</td>\n",
       "      <td>Uganda: Tororo</td>\n",
       "      <td>Dried Blood Spot</td>\n",
       "    </tr>\n",
       "    <tr>\n",
       "      <th>3</th>\n",
       "      <td>SAMN15749701</td>\n",
       "      <td>Successfully loaded</td>\n",
       "      <td>TO-04-04</td>\n",
       "      <td>Plasmodium falciparum</td>\n",
       "      <td>TO-04-04</td>\n",
       "      <td>Homo sapiens</td>\n",
       "      <td>Dried Blood Spot</td>\n",
       "      <td>2019</td>\n",
       "      <td>Uganda: Tororo</td>\n",
       "      <td>Dried Blood Spot</td>\n",
       "    </tr>\n",
       "    <tr>\n",
       "      <th>4</th>\n",
       "      <td>SAMN15749702</td>\n",
       "      <td>Successfully loaded</td>\n",
       "      <td>TO-04-05</td>\n",
       "      <td>Plasmodium falciparum</td>\n",
       "      <td>TO-04-05</td>\n",
       "      <td>Homo sapiens</td>\n",
       "      <td>Dried Blood Spot</td>\n",
       "      <td>2019</td>\n",
       "      <td>Uganda: Tororo</td>\n",
       "      <td>Dried Blood Spot</td>\n",
       "    </tr>\n",
       "  </tbody>\n",
       "</table>\n",
       "</div>"
      ],
      "text/plain": [
       "      accession              message sample_name               organism  \\\n",
       "0  SAMN15749698  Successfully loaded    TO-04-01  Plasmodium falciparum   \n",
       "1  SAMN15749699  Successfully loaded    TO-04-02  Plasmodium falciparum   \n",
       "2  SAMN15749700  Successfully loaded    TO-04-03  Plasmodium falciparum   \n",
       "3  SAMN15749701  Successfully loaded    TO-04-04  Plasmodium falciparum   \n",
       "4  SAMN15749702  Successfully loaded    TO-04-05  Plasmodium falciparum   \n",
       "\n",
       "    isolate          host  isolation_source  collection_date    geo_loc_name  \\\n",
       "0  TO-04-01  Homo sapiens  Dried Blood Spot             2019  Uganda: Tororo   \n",
       "1  TO-04-02  Homo sapiens  Dried Blood Spot             2019  Uganda: Tororo   \n",
       "2  TO-04-03  Homo sapiens  Dried Blood Spot             2019  Uganda: Tororo   \n",
       "3  TO-04-04  Homo sapiens  Dried Blood Spot             2019  Uganda: Tororo   \n",
       "4  TO-04-05  Homo sapiens  Dried Blood Spot             2019  Uganda: Tororo   \n",
       "\n",
       "        sample_type  \n",
       "0  Dried Blood Spot  \n",
       "1  Dried Blood Spot  \n",
       "2  Dried Blood Spot  \n",
       "3  Dried Blood Spot  \n",
       "4  Dried Blood Spot  "
      ]
     },
     "execution_count": 49,
     "metadata": {},
     "output_type": "execute_result"
    }
   ],
   "source": [
    "output_file = os.path.join(data_dir, \"sra_output_2019.tsv\")\n",
    "sra_output_2019 = pd.read_table(output_file)\n",
    "sra_output_2019.head()"
   ]
  },
  {
   "cell_type": "markdown",
   "metadata": {},
   "source": [
    "Concatanate the two files from biosample submission and merge with the meta data table we already have."
   ]
  },
  {
   "cell_type": "markdown",
   "metadata": {},
   "source": [
    "First, check that merging will produce expected size tables. "
   ]
  },
  {
   "cell_type": "code",
   "execution_count": 50,
   "metadata": {},
   "outputs": [
    {
     "data": {
      "text/plain": [
       "(1406, 8)"
      ]
     },
     "execution_count": 50,
     "metadata": {},
     "output_type": "execute_result"
    }
   ],
   "source": [
    "sra_meta.shape"
   ]
  },
  {
   "cell_type": "code",
   "execution_count": 51,
   "metadata": {},
   "outputs": [
    {
     "data": {
      "text/plain": [
       "(1406, 10)"
      ]
     },
     "execution_count": 51,
     "metadata": {},
     "output_type": "execute_result"
    }
   ],
   "source": [
    "sra_meta.merge(pd.concat([sra_output_2018, sra_output_2019])).shape"
   ]
  },
  {
   "cell_type": "code",
   "execution_count": 52,
   "metadata": {},
   "outputs": [],
   "source": [
    "sra_meta = sra_meta.merge(pd.concat([sra_output_2018, sra_output_2019]))"
   ]
  },
  {
   "cell_type": "markdown",
   "metadata": {},
   "source": [
    "There is a \"message\" field that has submission outcome for each sample. All samples should have \"Successfully loaded\" value. Let's check that there are no other values."
   ]
  },
  {
   "cell_type": "code",
   "execution_count": 53,
   "metadata": {},
   "outputs": [
    {
     "data": {
      "text/plain": [
       "array(['Successfully loaded'], dtype=object)"
      ]
     },
     "execution_count": 53,
     "metadata": {},
     "output_type": "execute_result"
    }
   ],
   "source": [
    "sra_meta[\"message\"].unique()"
   ]
  },
  {
   "cell_type": "markdown",
   "metadata": {},
   "source": [
    "Remove the \"message\" field and save the final table."
   ]
  },
  {
   "cell_type": "code",
   "execution_count": 54,
   "metadata": {},
   "outputs": [],
   "source": [
    "sra_meta.drop(\"message\", axis=1, inplace=True)"
   ]
  },
  {
   "cell_type": "code",
   "execution_count": 56,
   "metadata": {},
   "outputs": [],
   "source": [
    "output_file = \"sra_sample_meta.tsv\"\n",
    "output_path = os.path.join(data_dir, output_file)\n",
    "sra_meta.to_csv(output_path, sep=\"\\t\", index=False)"
   ]
  }
 ],
 "metadata": {
  "kernelspec": {
   "display_name": "Python 3",
   "language": "python",
   "name": "python3"
  },
  "language_info": {
   "codemirror_mode": {
    "name": "ipython",
    "version": 3
   },
   "file_extension": ".py",
   "mimetype": "text/x-python",
   "name": "python",
   "nbconvert_exporter": "python",
   "pygments_lexer": "ipython3",
   "version": "3.8.3"
  }
 },
 "nbformat": 4,
 "nbformat_minor": 4
}
