{
 "cells": [
  {
   "cell_type": "code",
   "execution_count": null,
   "id": "28766ce4-261b-49b3-a6aa-3e2385a5e6a6",
   "metadata": {},
   "outputs": [],
   "source": [
    "import json\n",
    "import pandas as pd\n",
    "import plotly.express as px\n",
    "from ipywidgets import interact, interactive, fixed, interact_manual\n",
    "import ipywidgets as widgets\n",
    "\n",
    "########### USER INPUT #################\n",
    "prevalence_summary_file_name='tanzania_prevalence_summary.tsv'\n",
    "\n",
    "# load the inputs\n",
    "region_list=[\n",
    "    ('uganda',['uganda-with-regions.geojson',5, {\"lat\": 1.3733, \"lon\": 32.2903}]),\n",
    "    ('tanzania',['tanzania-with-regions.geojson',4, {\"lat\": -6.3690, \"lon\": 34.8888}])\n",
    "]\n",
    "prevalence_summary_df = pd.read_csv('/opt/prevalence_metadata/'+prevalence_summary_file_name, sep='\\t')\n",
    "\n",
    "# identify columns that are variants not headers\n",
    "variant_columns=prevalence_summary_df.columns.difference(['Sites'])\n",
    "\n",
    "# get a list of every variant from the dataframe and convert prevalence values to floats\n",
    "variant_list = []\n",
    "for column in variant_columns:\n",
    "    prevalence_summary_df[column]=[float(x.split()[0]) for x in prevalence_summary_df[column]]\n",
    "    variant_list.append(column)\n",
    "\n",
    "def display_choropleth(variant, region):\n",
    "    json_file = json.load(open('/opt/prevalence_metadata/'+region[0]))\n",
    "    fig = px.choropleth_mapbox(prevalence_summary_df, \n",
    "                                geojson=json_file, \n",
    "                                locations='Sites', \n",
    "                                color=variant,\n",
    "                                color_continuous_scale=\"solar\",\n",
    "                                mapbox_style=\"carto-positron\",\n",
    "                                featureidkey=\"properties.name\",\n",
    "                                zoom=region[1], \n",
    "                                center = region[2],\n",
    "                                labels={'Sites':'Site'},\n",
    "                                range_color=(0,1),\n",
    "    )\n",
    "    fig.update_layout(margin={\"r\":0,\"t\":40,\"l\":0,\"b\":0})\n",
    "    return fig\n",
    "\n",
    "interact(display_choropleth, variant=variant_list, region=region_list);"
   ]
  }
 ],
 "metadata": {
  "kernelspec": {
   "display_name": "Python 3 (ipykernel)",
   "language": "python",
   "name": "python3"
  },
  "language_info": {
   "codemirror_mode": {
    "name": "ipython",
    "version": 3
   },
   "file_extension": ".py",
   "mimetype": "text/x-python",
   "name": "python",
   "nbconvert_exporter": "python",
   "pygments_lexer": "ipython3",
   "version": "3.9.19"
  }
 },
 "nbformat": 4,
 "nbformat_minor": 5
}
